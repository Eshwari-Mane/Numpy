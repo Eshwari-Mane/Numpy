{
 "cells": [
  {
   "cell_type": "code",
   "execution_count": 8,
   "id": "8fb3cc31-8163-4b1c-adf6-b81b7d99a95d",
   "metadata": {},
   "outputs": [],
   "source": [
    "# Cuffling , plotly packages are also used but mostly we use numpy , Pandas, Matplotlib, Seaborn,etc"
   ]
  },
  {
   "cell_type": "code",
   "execution_count": 10,
   "id": "4b00613d-ab67-42b1-89ee-d56c78fecdfb",
   "metadata": {},
   "outputs": [
    {
     "data": {
      "text/plain": [
       "list"
      ]
     },
     "execution_count": 10,
     "metadata": {},
     "output_type": "execute_result"
    }
   ],
   "source": [
    "#Numpy is used to perform mathematical operations it is numeric python , they are extremly fast\n",
    "import numpy as np\n",
    "data = [10,20,30,40]\n",
    "type(data)"
   ]
  },
  {
   "cell_type": "code",
   "execution_count": 12,
   "id": "d496bb0e-8808-45d2-b757-7ced0fecf41a",
   "metadata": {},
   "outputs": [
    {
     "data": {
      "text/plain": [
       "array([10, 20, 30, 40])"
      ]
     },
     "execution_count": 12,
     "metadata": {},
     "output_type": "execute_result"
    }
   ],
   "source": [
    "np.array(data)"
   ]
  },
  {
   "cell_type": "code",
   "execution_count": 14,
   "id": "a3cb1722-c073-4679-a0f7-691cada38d80",
   "metadata": {},
   "outputs": [
    {
     "data": {
      "text/plain": [
       "list"
      ]
     },
     "execution_count": 14,
     "metadata": {},
     "output_type": "execute_result"
    }
   ],
   "source": [
    "type(data)"
   ]
  },
  {
   "cell_type": "code",
   "execution_count": 16,
   "id": "d0f9aa72-b37e-473f-a3e7-7831819c5947",
   "metadata": {},
   "outputs": [
    {
     "data": {
      "text/plain": [
       "numpy.ndarray"
      ]
     },
     "execution_count": 16,
     "metadata": {},
     "output_type": "execute_result"
    }
   ],
   "source": [
    "arr = np.array(data)\n",
    "type(arr)"
   ]
  },
  {
   "cell_type": "code",
   "execution_count": 18,
   "id": "e73a15fb-e7ef-42fd-a10e-4d26f9305558",
   "metadata": {},
   "outputs": [
    {
     "data": {
      "text/plain": [
       "array([10, 20, 30, 40])"
      ]
     },
     "execution_count": 18,
     "metadata": {},
     "output_type": "execute_result"
    }
   ],
   "source": [
    "arr"
   ]
  },
  {
   "cell_type": "code",
   "execution_count": 20,
   "id": "b2ab538d-3c6a-40e8-8348-2531656b4d75",
   "metadata": {},
   "outputs": [
    {
     "data": {
      "text/plain": [
       "array([0.86652774, 0.15782849, 0.94053102, 0.80019916, 0.05203858,\n",
       "       0.703324  , 0.46403532, 0.73912449, 0.15076467, 0.7483304 ])"
      ]
     },
     "execution_count": 20,
     "metadata": {},
     "output_type": "execute_result"
    }
   ],
   "source": [
    "np.random.rand(10)   #This is the method which will provide the random numbers from uniform distribution(values between 0 and 1)\n",
    "#Here rand(10) will print 10 random values.It will provide uniform distribution\n",
    "#this will give 1D array \n"
   ]
  },
  {
   "cell_type": "code",
   "execution_count": 22,
   "id": "7d9a2b18-de20-4d26-b5a0-2c1d701c0c75",
   "metadata": {},
   "outputs": [
    {
     "data": {
      "text/plain": [
       "array([[0.93660997, 0.5943268 , 0.20847152, 0.06903853, 0.87321981],\n",
       "       [0.71445857, 0.82058866, 0.38995588, 0.14093116, 0.02331667],\n",
       "       [0.39518151, 0.77832588, 0.03524216, 0.52849693, 0.79500579],\n",
       "       [0.04937838, 0.09950977, 0.19463018, 0.81073205, 0.78585301]])"
      ]
     },
     "execution_count": 22,
     "metadata": {},
     "output_type": "execute_result"
    }
   ],
   "source": [
    "np.random.rand(4,5) #This will give 2D arrays"
   ]
  },
  {
   "cell_type": "code",
   "execution_count": 26,
   "id": "1c8bcc1f-d90e-42da-a408-d6a9f4087657",
   "metadata": {},
   "outputs": [
    {
     "data": {
      "text/plain": [
       "array([-0.88756307,  2.04167698, -0.17526713,  0.43009223,  0.45881561,\n",
       "        0.10102101,  0.58642181, -0.11712915,  0.5105335 ,  0.83034768,\n",
       "       -0.57772851, -0.02938928])"
      ]
     },
     "execution_count": 26,
     "metadata": {},
     "output_type": "execute_result"
    }
   ],
   "source": [
    "np.random.randn(12) #Here we will get the data from standard normal distribution formate  (means mean is 0 and standard deviation is 1)\n",
    "#It will provide values 68% of the data lies between 0 to 1, 95% lies between , 98% lies between -3 to 3\n"
   ]
  },
  {
   "cell_type": "code",
   "execution_count": 30,
   "id": "ce7bcaf8-fddf-4d16-a0ef-3a61f12bf6bf",
   "metadata": {},
   "outputs": [
    {
     "data": {
      "text/plain": [
       "array([[-0.96952197,  1.22103969],\n",
       "       [ 0.33816708, -0.15519476],\n",
       "       [ 0.44233161, -1.06039338],\n",
       "       [ 0.46540594,  0.51296615]])"
      ]
     },
     "execution_count": 30,
     "metadata": {},
     "output_type": "execute_result"
    }
   ],
   "source": [
    "np.random.randn(4,2)"
   ]
  },
  {
   "cell_type": "code",
   "execution_count": 32,
   "id": "0ef6185e-fa97-4d37-ae04-98006936b88e",
   "metadata": {},
   "outputs": [
    {
     "data": {
      "text/plain": [
       "0"
      ]
     },
     "execution_count": 32,
     "metadata": {},
     "output_type": "execute_result"
    }
   ],
   "source": [
    "np.random.randint(1) #it will give random integers(starts form 0 )"
   ]
  },
  {
   "cell_type": "code",
   "execution_count": 34,
   "id": "36652f54-f171-4615-b0ac-5058663c8dbc",
   "metadata": {},
   "outputs": [
    {
     "data": {
      "text/plain": [
       "7"
      ]
     },
     "execution_count": 34,
     "metadata": {},
     "output_type": "execute_result"
    }
   ],
   "source": [
    "np.random.randint(2,10) #Gives the random integer between 2 to 10"
   ]
  },
  {
   "cell_type": "code",
   "execution_count": 36,
   "id": "f6796a30-0963-4cb5-8a58-37722ded227e",
   "metadata": {},
   "outputs": [
    {
     "data": {
      "text/plain": [
       "array([19, 15, 22, 23, 15, 17])"
      ]
     },
     "execution_count": 36,
     "metadata": {},
     "output_type": "execute_result"
    }
   ],
   "source": [
    "np.random.randint(15,25,6) # Gives 6 random integers between 15 to 25"
   ]
  },
  {
   "cell_type": "code",
   "execution_count": 40,
   "id": "4812d19e-0c10-43f9-86f7-41642a33cbb9",
   "metadata": {},
   "outputs": [
    {
     "data": {
      "text/plain": [
       "array([0, 1, 2, 3, 4, 5, 6, 7, 8, 9])"
      ]
     },
     "execution_count": 40,
     "metadata": {},
     "output_type": "execute_result"
    }
   ],
   "source": [
    "arr1 = np.arange(10) #It will generate the array of given range\n",
    "type(arr1)\n",
    "arr1"
   ]
  },
  {
   "cell_type": "code",
   "execution_count": 44,
   "id": "8028267f-bc1b-46c2-9b2a-9d87f57a72b3",
   "metadata": {},
   "outputs": [
    {
     "name": "stdout",
     "output_type": "stream",
     "text": [
      "[10 20 30 40 50 60 70 80 90]\n"
     ]
    }
   ],
   "source": [
    "arr2 = np.arange(10,100,10)\n",
    "print(arr2)"
   ]
  },
  {
   "cell_type": "code",
   "execution_count": 48,
   "id": "a0178ab9-a8ec-4380-b248-2eda4636eccc",
   "metadata": {},
   "outputs": [
    {
     "data": {
      "text/plain": [
       "array([[ 1,  2,  3,  4,  5,  6,  7,  8,  9, 10, 11, 12, 13, 14, 15, 16,\n",
       "        17, 18, 19, 20, 21, 22, 23, 24, 25]])"
      ]
     },
     "execution_count": 48,
     "metadata": {},
     "output_type": "execute_result"
    }
   ],
   "source": [
    "#reshape() method will help to change the shape of an array\n",
    "np.arange(1,26).reshape(1,25)"
   ]
  },
  {
   "cell_type": "code",
   "execution_count": 50,
   "id": "932e0ef6-e823-4c6c-9fb2-b1b8ca1ecf63",
   "metadata": {},
   "outputs": [
    {
     "data": {
      "text/plain": [
       "array([[ 1],\n",
       "       [ 2],\n",
       "       [ 3],\n",
       "       [ 4],\n",
       "       [ 5],\n",
       "       [ 6],\n",
       "       [ 7],\n",
       "       [ 8],\n",
       "       [ 9],\n",
       "       [10],\n",
       "       [11],\n",
       "       [12],\n",
       "       [13],\n",
       "       [14],\n",
       "       [15],\n",
       "       [16],\n",
       "       [17],\n",
       "       [18],\n",
       "       [19],\n",
       "       [20],\n",
       "       [21],\n",
       "       [22],\n",
       "       [23],\n",
       "       [24],\n",
       "       [25]])"
      ]
     },
     "execution_count": 50,
     "metadata": {},
     "output_type": "execute_result"
    }
   ],
   "source": [
    "np.arange(1,26).reshape(25,1)"
   ]
  },
  {
   "cell_type": "code",
   "execution_count": 52,
   "id": "6d49676c-e429-435d-8a97-767f07bea023",
   "metadata": {},
   "outputs": [
    {
     "data": {
      "text/plain": [
       "array([ 100.        ,  109.09090909,  118.18181818,  127.27272727,\n",
       "        136.36363636,  145.45454545,  154.54545455,  163.63636364,\n",
       "        172.72727273,  181.81818182,  190.90909091,  200.        ,\n",
       "        209.09090909,  218.18181818,  227.27272727,  236.36363636,\n",
       "        245.45454545,  254.54545455,  263.63636364,  272.72727273,\n",
       "        281.81818182,  290.90909091,  300.        ,  309.09090909,\n",
       "        318.18181818,  327.27272727,  336.36363636,  345.45454545,\n",
       "        354.54545455,  363.63636364,  372.72727273,  381.81818182,\n",
       "        390.90909091,  400.        ,  409.09090909,  418.18181818,\n",
       "        427.27272727,  436.36363636,  445.45454545,  454.54545455,\n",
       "        463.63636364,  472.72727273,  481.81818182,  490.90909091,\n",
       "        500.        ,  509.09090909,  518.18181818,  527.27272727,\n",
       "        536.36363636,  545.45454545,  554.54545455,  563.63636364,\n",
       "        572.72727273,  581.81818182,  590.90909091,  600.        ,\n",
       "        609.09090909,  618.18181818,  627.27272727,  636.36363636,\n",
       "        645.45454545,  654.54545455,  663.63636364,  672.72727273,\n",
       "        681.81818182,  690.90909091,  700.        ,  709.09090909,\n",
       "        718.18181818,  727.27272727,  736.36363636,  745.45454545,\n",
       "        754.54545455,  763.63636364,  772.72727273,  781.81818182,\n",
       "        790.90909091,  800.        ,  809.09090909,  818.18181818,\n",
       "        827.27272727,  836.36363636,  845.45454545,  854.54545455,\n",
       "        863.63636364,  872.72727273,  881.81818182,  890.90909091,\n",
       "        900.        ,  909.09090909,  918.18181818,  927.27272727,\n",
       "        936.36363636,  945.45454545,  954.54545455,  963.63636364,\n",
       "        972.72727273,  981.81818182,  990.90909091, 1000.        ])"
      ]
     },
     "execution_count": 52,
     "metadata": {},
     "output_type": "execute_result"
    }
   ],
   "source": [
    "np.linspace(100,1000,100)"
   ]
  },
  {
   "cell_type": "code",
   "execution_count": 60,
   "id": "98dce692-fced-4ef1-b484-263920595cad",
   "metadata": {},
   "outputs": [
    {
     "data": {
      "text/plain": [
       "array([[ 1,  2,  3,  4,  5],\n",
       "       [ 6,  7,  8,  9, 10],\n",
       "       [11, 12, 13, 14, 15],\n",
       "       [16, 17, 18, 19, 20]])"
      ]
     },
     "execution_count": 60,
     "metadata": {},
     "output_type": "execute_result"
    }
   ],
   "source": [
    "arr3=np.arange(1,21).reshape(4,5)\n",
    "arr3"
   ]
  },
  {
   "cell_type": "code",
   "execution_count": 64,
   "id": "a36bb400-c64e-4146-b052-48566485b4b4",
   "metadata": {},
   "outputs": [
    {
     "data": {
      "text/plain": [
       "(4, 5)"
      ]
     },
     "execution_count": 64,
     "metadata": {},
     "output_type": "execute_result"
    }
   ],
   "source": [
    "arr3.shape"
   ]
  },
  {
   "cell_type": "code",
   "execution_count": 66,
   "id": "1b43fe0f-cb2c-48c9-8277-40cabd01cd6d",
   "metadata": {},
   "outputs": [
    {
     "data": {
      "text/plain": [
       "array([ 9, 14])"
      ]
     },
     "execution_count": 66,
     "metadata": {},
     "output_type": "execute_result"
    }
   ],
   "source": [
    "#to get 9and14 from the matrix\n",
    "arr3[[1,2],3]"
   ]
  },
  {
   "cell_type": "code",
   "execution_count": 68,
   "id": "d22a336e-2236-43a8-87dc-522ccfb9a259",
   "metadata": {},
   "outputs": [
    {
     "data": {
      "text/plain": [
       "array([[ 2],\n",
       "       [ 7],\n",
       "       [12]])"
      ]
     },
     "execution_count": 68,
     "metadata": {},
     "output_type": "execute_result"
    }
   ],
   "source": [
    "arr3[0:3,1:2]"
   ]
  },
  {
   "cell_type": "code",
   "execution_count": 74,
   "id": "f2d9b72f-ca2e-42ab-98a3-8d9e89ddd3cd",
   "metadata": {},
   "outputs": [
    {
     "data": {
      "text/plain": [
       "array([7, 8, 9])"
      ]
     },
     "execution_count": 74,
     "metadata": {},
     "output_type": "execute_result"
    }
   ],
   "source": [
    "arr3[1,1:4] #arr3[1:2,1:4]"
   ]
  },
  {
   "cell_type": "code",
   "execution_count": 78,
   "id": "4dad4b3e-eb8f-4fe7-b4af-448a8a10c9dc",
   "metadata": {},
   "outputs": [
    {
     "data": {
      "text/plain": [
       "array([[13, 14],\n",
       "       [18, 19]])"
      ]
     },
     "execution_count": 78,
     "metadata": {},
     "output_type": "execute_result"
    }
   ],
   "source": [
    "arr3[2:4,2:4] # to fetch 13,14,18,19"
   ]
  },
  {
   "cell_type": "code",
   "execution_count": 84,
   "id": "7d8c5a2f-5bf3-46ba-b657-8e210fc2f07e",
   "metadata": {},
   "outputs": [
    {
     "data": {
      "text/plain": [
       "array([[ 5],\n",
       "       [10],\n",
       "       [15],\n",
       "       [20]])"
      ]
     },
     "execution_count": 84,
     "metadata": {},
     "output_type": "execute_result"
    }
   ],
   "source": [
    "arr3[0:4,4:5]# or arr3[:,4:5]"
   ]
  },
  {
   "cell_type": "code",
   "execution_count": 86,
   "id": "09bda493-a4ec-4618-893d-8ff7d5362cf5",
   "metadata": {},
   "outputs": [
    {
     "data": {
      "text/plain": [
       "array([ 2, 19])"
      ]
     },
     "execution_count": 86,
     "metadata": {},
     "output_type": "execute_result"
    }
   ],
   "source": [
    "#To fetch adjacent 2 and 19 from an array\n",
    "arr3[[0,3],[1,3]]"
   ]
  },
  {
   "cell_type": "code",
   "execution_count": 88,
   "id": "302f7542-aef7-47c6-acfd-2bc22cc9844c",
   "metadata": {},
   "outputs": [
    {
     "data": {
      "text/plain": [
       "array([ 9, 19])"
      ]
     },
     "execution_count": 88,
     "metadata": {},
     "output_type": "execute_result"
    }
   ],
   "source": [
    "arr3[[1,3],[3,3]]"
   ]
  },
  {
   "cell_type": "code",
   "execution_count": 90,
   "id": "5de00f65-2adc-4017-b574-750876dee8b2",
   "metadata": {},
   "outputs": [
    {
     "data": {
      "text/plain": [
       "array([[0.01, 0.02, 0.03, 0.04, 0.05, 0.06, 0.07, 0.08, 0.09, 0.1 ],\n",
       "       [0.11, 0.12, 0.13, 0.14, 0.15, 0.16, 0.17, 0.18, 0.19, 0.2 ],\n",
       "       [0.21, 0.22, 0.23, 0.24, 0.25, 0.26, 0.27, 0.28, 0.29, 0.3 ],\n",
       "       [0.31, 0.32, 0.33, 0.34, 0.35, 0.36, 0.37, 0.38, 0.39, 0.4 ],\n",
       "       [0.41, 0.42, 0.43, 0.44, 0.45, 0.46, 0.47, 0.48, 0.49, 0.5 ],\n",
       "       [0.51, 0.52, 0.53, 0.54, 0.55, 0.56, 0.57, 0.58, 0.59, 0.6 ],\n",
       "       [0.61, 0.62, 0.63, 0.64, 0.65, 0.66, 0.67, 0.68, 0.69, 0.7 ],\n",
       "       [0.71, 0.72, 0.73, 0.74, 0.75, 0.76, 0.77, 0.78, 0.79, 0.8 ],\n",
       "       [0.81, 0.82, 0.83, 0.84, 0.85, 0.86, 0.87, 0.88, 0.89, 0.9 ],\n",
       "       [0.91, 0.92, 0.93, 0.94, 0.95, 0.96, 0.97, 0.98, 0.99, 1.  ]])"
      ]
     },
     "execution_count": 90,
     "metadata": {},
     "output_type": "execute_result"
    }
   ],
   "source": [
    "np.arange(0.01,1.01,0.01).reshape(10,10)"
   ]
  },
  {
   "cell_type": "code",
   "execution_count": 102,
   "id": "b7e9a778-bd4c-468e-874b-300940d04bc7",
   "metadata": {},
   "outputs": [
    {
     "ename": "ValueError",
     "evalue": "cannot reshape array of size 10 into shape (10,10)",
     "output_type": "error",
     "traceback": [
      "\u001b[1;31m---------------------------------------------------------------------------\u001b[0m",
      "\u001b[1;31mValueError\u001b[0m                                Traceback (most recent call last)",
      "Cell \u001b[1;32mIn[102], line 1\u001b[0m\n\u001b[1;32m----> 1\u001b[0m np\u001b[38;5;241m.\u001b[39marange(\u001b[38;5;241m0\u001b[39m,\u001b[38;5;241m10\u001b[39m,\u001b[38;5;241m1\u001b[39m)\u001b[38;5;241m.\u001b[39mreshape(\u001b[38;5;241m10\u001b[39m,\u001b[38;5;241m10\u001b[39m)\n",
      "\u001b[1;31mValueError\u001b[0m: cannot reshape array of size 10 into shape (10,10)"
     ]
    }
   ],
   "source": [
    "np.arange(0,10,1).reshape(10,10)"
   ]
  },
  {
   "cell_type": "code",
   "execution_count": 116,
   "id": "eb565a42-591e-4209-9095-cc006fd15826",
   "metadata": {},
   "outputs": [
    {
     "data": {
      "text/plain": [
       "array([[0., 0., 0., 0., 0., 0., 0., 0., 0., 0.],\n",
       "       [1., 1., 1., 1., 1., 1., 1., 1., 1., 1.],\n",
       "       [2., 2., 2., 2., 2., 2., 2., 2., 2., 2.],\n",
       "       [3., 3., 3., 3., 3., 3., 3., 3., 3., 3.],\n",
       "       [4., 4., 4., 4., 4., 4., 4., 4., 4., 4.],\n",
       "       [5., 5., 5., 5., 5., 5., 5., 5., 5., 5.],\n",
       "       [6., 6., 6., 6., 6., 6., 6., 6., 6., 6.],\n",
       "       [7., 7., 7., 7., 7., 7., 7., 7., 7., 7.],\n",
       "       [8., 8., 8., 8., 8., 8., 8., 8., 8., 8.],\n",
       "       [9., 9., 9., 9., 9., 9., 9., 9., 9., 9.]])"
      ]
     },
     "execution_count": 116,
     "metadata": {},
     "output_type": "execute_result"
    }
   ],
   "source": [
    "np.arange(0,10).reshape(-1,1)*np.ones((1,10))"
   ]
  },
  {
   "cell_type": "code",
   "execution_count": 124,
   "id": "37833af4-2eda-49f0-8258-022507363278",
   "metadata": {},
   "outputs": [
    {
     "data": {
      "text/plain": [
       "array([ 1,  2,  3,  4,  5,  6,  7,  8,  9, 10, 11, 12, 13, 14, 15, 16, 17,\n",
       "       18, 19, 20, 21, 22, 23, 24, 25])"
      ]
     },
     "execution_count": 124,
     "metadata": {},
     "output_type": "execute_result"
    }
   ],
   "source": [
    "#Broadcasting means it is some changes in subset of the original array for examples\n",
    "arr=np.arange(1,26)\n",
    "arr"
   ]
  },
  {
   "cell_type": "code",
   "execution_count": 126,
   "id": "9197d2ea-aabc-4ea3-9779-4d5777f0d7b0",
   "metadata": {},
   "outputs": [
    {
     "ename": "TypeError",
     "evalue": "'numpy.ndarray' object is not callable",
     "output_type": "error",
     "traceback": [
      "\u001b[1;31m---------------------------------------------------------------------------\u001b[0m",
      "\u001b[1;31mTypeError\u001b[0m                                 Traceback (most recent call last)",
      "Cell \u001b[1;32mIn[126], line 1\u001b[0m\n\u001b[1;32m----> 1\u001b[0m arr_subset \u001b[38;5;241m=\u001b[39m arr(\u001b[38;5;241m1\u001b[39m,\u001b[38;5;241m5\u001b[39m)\n",
      "\u001b[1;31mTypeError\u001b[0m: 'numpy.ndarray' object is not callable"
     ]
    }
   ],
   "source": [
    "arr_subset = arr(1,5)"
   ]
  },
  {
   "cell_type": "code",
   "execution_count": 128,
   "id": "7621994e-ea09-4f68-8b38-414d2cdab523",
   "metadata": {},
   "outputs": [
    {
     "data": {
      "text/plain": [
       "325"
      ]
     },
     "execution_count": 128,
     "metadata": {},
     "output_type": "execute_result"
    }
   ],
   "source": [
    "#to get sum of an array\n",
    "arr.sum()"
   ]
  },
  {
   "cell_type": "code",
   "execution_count": 132,
   "id": "c2f3aa26-7d83-4d4f-afe6-a08132d23c7d",
   "metadata": {},
   "outputs": [
    {
     "data": {
      "text/plain": [
       "array([[ 1,  2,  3,  4,  5],\n",
       "       [ 6,  7,  8,  9, 10],\n",
       "       [11, 12, 13, 14, 15],\n",
       "       [16, 17, 18, 19, 20],\n",
       "       [21, 22, 23, 24, 25]])"
      ]
     },
     "execution_count": 132,
     "metadata": {},
     "output_type": "execute_result"
    }
   ],
   "source": [
    "arr4 = np.arange(1,26).reshape(5,5)\n",
    "arr4"
   ]
  },
  {
   "cell_type": "code",
   "execution_count": 136,
   "id": "8d157048-0ad6-4e7d-bc2f-42641de71c86",
   "metadata": {},
   "outputs": [
    {
     "data": {
      "text/plain": [
       "55"
      ]
     },
     "execution_count": 136,
     "metadata": {},
     "output_type": "execute_result"
    }
   ],
   "source": [
    "#to get the sum of first column in matrix\n",
    "arr4[:,0].sum()"
   ]
  },
  {
   "cell_type": "code",
   "execution_count": 144,
   "id": "e9f69d55-7d6f-4560-be98-d31004d73f9a",
   "metadata": {},
   "outputs": [
    {
     "data": {
      "text/plain": [
       "array([55, 60, 65, 70, 75])"
      ]
     },
     "execution_count": 144,
     "metadata": {},
     "output_type": "execute_result"
    }
   ],
   "source": [
    "arr4.sum(axis=0) #axis = 0 means row and axis = 1mean column\n"
   ]
  },
  {
   "cell_type": "code",
   "execution_count": 142,
   "id": "a5737864-a68c-4c19-ae8d-4c0e0a4a23c1",
   "metadata": {},
   "outputs": [
    {
     "data": {
      "text/plain": [
       "array([ 15,  40,  65,  90, 115])"
      ]
     },
     "execution_count": 142,
     "metadata": {},
     "output_type": "execute_result"
    }
   ],
   "source": [
    "arr4.sum(axis=1)"
   ]
  },
  {
   "cell_type": "code",
   "execution_count": null,
   "id": "d89ba439-6d42-4b7e-8f84-b8f3396293c5",
   "metadata": {},
   "outputs": [],
   "source": [
    "#Kahoot it :it is online platform "
   ]
  }
 ],
 "metadata": {
  "kernelspec": {
   "display_name": "Python 3 (ipykernel)",
   "language": "python",
   "name": "python3"
  },
  "language_info": {
   "codemirror_mode": {
    "name": "ipython",
    "version": 3
   },
   "file_extension": ".py",
   "mimetype": "text/x-python",
   "name": "python",
   "nbconvert_exporter": "python",
   "pygments_lexer": "ipython3",
   "version": "3.12.4"
  }
 },
 "nbformat": 4,
 "nbformat_minor": 5
}
