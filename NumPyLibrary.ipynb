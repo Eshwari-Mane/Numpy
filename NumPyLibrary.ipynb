{
 "cells": [
  {
   "cell_type": "raw",
   "id": "7319cef3-dd48-4fd4-84f1-049334a5ad69",
   "metadata": {},
   "source": [
    "#Numpy Library(Numerical Python)\n",
    "The Numpy Library contains a multidimensional array and matrix data structures\n",
    "In Python we have lists that serve the purpose of arrays, but they are slow to process.\n",
    "NumPy aims to provide an array object that is up to 50x faster than traditional Python lists.\n",
    "The array object in Python is called ndarray, it provides a lot of supporting functions that make working with ndarray very easy.\n",
    "Array are very frequently used in data science, where speed and resources are important\n",
    "NumPy arrays are stored at one continuous place in memory unlike lists, so processes can access and manipulate them very efficiently\n",
    "This behavior is called locality of reference in computer science\n",
    "This is the main reason why NumPy is faster than lists. \n",
    "\n"
   ]
  },
  {
   "cell_type": "code",
   "execution_count": 1,
   "id": "b41fb17e-1cee-40fe-862b-6a309afa8323",
   "metadata": {},
   "outputs": [],
   "source": [
    "import numpy as np #np is alias"
   ]
  },
  {
   "cell_type": "code",
   "execution_count": 3,
   "id": "1ebf45d2-653d-4ab8-8fb9-b68d2007fee1",
   "metadata": {},
   "outputs": [
    {
     "name": "stdout",
     "output_type": "stream",
     "text": [
      "[1 2 3 4 5 6]\n",
      "<class 'numpy.ndarray'>\n"
     ]
    }
   ],
   "source": [
    "arr = np.array([1,2,3,4,5,6])\n",
    "print(arr)\n",
    "print(type(arr))"
   ]
  },
  {
   "cell_type": "code",
   "execution_count": 5,
   "id": "f0d4abf8-7e35-4e76-9c80-289e75dc93c5",
   "metadata": {},
   "outputs": [
    {
     "name": "stdout",
     "output_type": "stream",
     "text": [
      "[1 2 3 4 5 6]\n",
      "<class 'numpy.ndarray'>\n"
     ]
    }
   ],
   "source": [
    "arr = np.array((1,2,3,4,5,6))#If we pass tuple then alsoo it gives array in numPy\n",
    "print(arr)\n",
    "print(type(arr))"
   ]
  },
  {
   "cell_type": "raw",
   "id": "88bf0368-a595-445a-adbf-d96d2b40a282",
   "metadata": {},
   "source": [
    "#Dimensions in array\n"
   ]
  },
  {
   "cell_type": "code",
   "execution_count": 19,
   "id": "82a45be1-1258-4bdd-94f9-8dde563fc1ed",
   "metadata": {},
   "outputs": [
    {
     "name": "stdout",
     "output_type": "stream",
     "text": [
      "20\n",
      "<class 'numpy.ndarray'>\n",
      "The dimension is :  0\n"
     ]
    }
   ],
   "source": [
    "arr = np.array(20)\n",
    "print(arr)\n",
    "print(type(arr))\n",
    "print(\"The dimension is : \",arr.ndim)#ndim gives dimension"
   ]
  },
  {
   "cell_type": "code",
   "execution_count": 21,
   "id": "7a408fc3-8193-46fe-93af-ba95e753dcba",
   "metadata": {},
   "outputs": [
    {
     "name": "stdout",
     "output_type": "stream",
     "text": [
      "[1 2 3 4 5]\n",
      "the dimension is :  1\n"
     ]
    }
   ],
   "source": [
    "#1-Dimension array\n",
    "arr = np.array([1,2,3,4,5])\n",
    "print(arr)\n",
    "print(\"the dimension is : \",arr.ndim)"
   ]
  },
  {
   "cell_type": "code",
   "execution_count": 23,
   "id": "f5b786f0-d503-492a-9840-00b85d042362",
   "metadata": {},
   "outputs": [
    {
     "name": "stdout",
     "output_type": "stream",
     "text": [
      "[[1 2 3 4 5]\n",
      " [4 5 6 7 8]]\n",
      "The Dimensions are :  2\n"
     ]
    }
   ],
   "source": [
    "#2-Dimension Array \n",
    "arr = np.array([[1,2,3,4,5],[4,5,6,7,8]])\n",
    "print(arr)\n",
    "print(\"The Dimensions are : \",arr.ndim)"
   ]
  },
  {
   "cell_type": "code",
   "execution_count": 27,
   "id": "0afb9e6a-901c-492e-872f-9deea7ca4ca5",
   "metadata": {},
   "outputs": [
    {
     "name": "stdout",
     "output_type": "stream",
     "text": [
      "[[[1 2 3 4]\n",
      "  [2 3 4 5]]\n",
      "\n",
      " [[1 2 3 9]\n",
      "  [6 7 8 9]]]\n",
      "The Dimension of array is :  3\n"
     ]
    }
   ],
   "source": [
    "#3-Dimension Array\n",
    "arr = np.array([[[1,2,3,4],[2,3,4,5]],[[1,2,3,9],[6,7,8,9]]])\n",
    "print(arr)\n",
    "print(\"The Dimension of array is : \",arr.ndim)"
   ]
  },
  {
   "cell_type": "raw",
   "id": "398fe571-0e1f-44be-a196-769760d67fa7",
   "metadata": {},
   "source": [
    "#NumPy Array Indexing\n",
    "Array indexing is the same as accessing an array element.\n",
    "You can access an array element by referring its index number.\n",
    "The indexes in NumPy arrays start with ) , meaning that the first element has index 0, and second has index 1, etc."
   ]
  },
  {
   "cell_type": "code",
   "execution_count": 37,
   "id": "822d00b5-6862-4aa8-91e9-bd74ee2b1a89",
   "metadata": {},
   "outputs": [
    {
     "name": "stdout",
     "output_type": "stream",
     "text": [
      "2nd element of first row :  23\n",
      "2nd element of second row : 8\n"
     ]
    }
   ],
   "source": [
    "#Get third and sixth and 8th elements from the following array and add them.\n",
    "arr = np.array([[1,23,4,5],[10,8,6,7]])\n",
    "print(\"2nd element of first row : \",arr[0,1])\n",
    "print(\"2nd element of second row :\",arr[1,1])"
   ]
  },
  {
   "cell_type": "code",
   "execution_count": 45,
   "id": "460a89e0-f087-497e-b0c1-e7da48f203cc",
   "metadata": {},
   "outputs": [
    {
     "name": "stdout",
     "output_type": "stream",
     "text": [
      "[[[ 1  2  3  4]\n",
      "  [ 5  6  7  8]]\n",
      "\n",
      " [[10 20 30 40]\n",
      "  [50 60 70 80]]]\n",
      "The 3rd element of the 2nd array of the 1st array : 7\n",
      "The 4th element of the 2nd array of 2nd array : 80\n"
     ]
    }
   ],
   "source": [
    "#Access 3-D arrays we use comma separated integers representing the dimensions and the index of the element\n",
    "arr = np.array([[[1,2,3,4],[5,6,7,8]],[[10,20,30,40],[50,60,70,80]]])\n",
    "print(arr)\n",
    "print(\"The 3rd element of the 2nd array of the 1st array :\",arr[0,1,2])\n",
    "print(\"The 4th element of the 2nd array of 2nd array :\", arr[1,1,3])"
   ]
  },
  {
   "cell_type": "code",
   "execution_count": 60,
   "id": "7dbf642f-e117-4d3f-b99b-dadba942bb6f",
   "metadata": {},
   "outputs": [
    {
     "name": "stdout",
     "output_type": "stream",
     "text": [
      "[2 3 4 5]\n",
      "[1 3 5 7]\n"
     ]
    }
   ],
   "source": [
    "#slicing of numpy arrays\n",
    "arr = np.array([1,2,3,4,5,6,7])\n",
    "print(arr[1:5])\n",
    "print(arr[::2])"
   ]
  },
  {
   "cell_type": "code",
   "execution_count": 68,
   "id": "61d51307-4119-4ca3-a8b2-7c8c7dd7db17",
   "metadata": {},
   "outputs": [
    {
     "name": "stdout",
     "output_type": "stream",
     "text": [
      "[7 8 9]\n",
      "[2 3 4 5]\n"
     ]
    }
   ],
   "source": [
    "arr = np.array([[1,2,3,4,5],[6,7,8,9,10]])\n",
    "print(arr[1,1:4])\n",
    "print(arr[0,1:5])\n"
   ]
  },
  {
   "cell_type": "code",
   "execution_count": 74,
   "id": "31a66678-e0b2-4bc4-a9a9-345b8b288f2a",
   "metadata": {},
   "outputs": [
    {
     "name": "stdout",
     "output_type": "stream",
     "text": [
      "[5 6]\n",
      "[6 7 8 9]\n",
      "[3 4 5]\n"
     ]
    }
   ],
   "source": [
    "arr = np.array([[[12,33,4,5,9],[1,2,3,4,5]],[[6,7,8,9,9],[4,5,6,7,8]]])\n",
    "print(arr[1,1,1:3])\n",
    "print(arr[1,0,0:4])\n",
    "print(arr[0,1,2:5])"
   ]
  },
  {
   "cell_type": "code",
   "execution_count": 76,
   "id": "9aaaef81-f615-467d-9d5e-b81f359ba9f6",
   "metadata": {},
   "outputs": [
    {
     "name": "stdout",
     "output_type": "stream",
     "text": [
      "int32\n"
     ]
    }
   ],
   "source": [
    "#Checking the  datatype of an array\n",
    "arr = np.array([1,2,3,4,5,5])\n",
    "print(arr.dtype)"
   ]
  },
  {
   "cell_type": "code",
   "execution_count": 78,
   "id": "fe2f6f8f-2ec8-4ab1-ba23-c35a2434c3ae",
   "metadata": {},
   "outputs": [
    {
     "name": "stdout",
     "output_type": "stream",
     "text": [
      "int32\n"
     ]
    }
   ],
   "source": [
    "arr = np.array([[1,2,3,4,5],[45,6,7,7,8]])\n",
    "print(arr.dtype)"
   ]
  },
  {
   "cell_type": "code",
   "execution_count": 80,
   "id": "1ed10027-0ae5-4853-9bd7-b8e5fd1cf52f",
   "metadata": {},
   "outputs": [
    {
     "name": "stdout",
     "output_type": "stream",
     "text": [
      "<U7\n"
     ]
    }
   ],
   "source": [
    "arr= np.array([\"animals\", \"Bat\",\"Birds\",\"fruits\"])\n",
    "print(arr.dtype)"
   ]
  },
  {
   "cell_type": "code",
   "execution_count": 84,
   "id": "5b5b75a7-0384-4125-b88d-dbe4192cc862",
   "metadata": {},
   "outputs": [
    {
     "name": "stdout",
     "output_type": "stream",
     "text": [
      "[b'1' b'2' b'3' b'4']\n",
      "|S1\n"
     ]
    }
   ],
   "source": [
    "#Creating arrays with a define datatypes\n",
    "arr = np.array([1,2,3,4], dtype = 'S')\n",
    "print(arr)\n",
    "print(arr.dtype)"
   ]
  },
  {
   "cell_type": "code",
   "execution_count": 88,
   "id": "e84a34cd-16df-4d32-af8d-4b0246095ae7",
   "metadata": {},
   "outputs": [
    {
     "name": "stdout",
     "output_type": "stream",
     "text": [
      "[1 2 3 4 5]\n",
      "int32\n"
     ]
    }
   ],
   "source": [
    "#Create an array with datatype 4 bytes integers\n",
    "arr = np.array([1,2,3,4,5], dtype='i4')\n",
    "print(arr)\n",
    "print(arr.dtype)"
   ]
  },
  {
   "cell_type": "raw",
   "id": "45d203cd-23fe-45a0-9883-2a16244ab4be",
   "metadata": {},
   "source": [
    "#NumPy array Shape\n",
    "the shape of an array is the numbers of elements in each dimension\n"
   ]
  },
  {
   "cell_type": "code",
   "execution_count": 92,
   "id": "b2f5adc8-a912-46d8-8950-b545f095c884",
   "metadata": {},
   "outputs": [
    {
     "name": "stdout",
     "output_type": "stream",
     "text": [
      "(2, 5)\n"
     ]
    }
   ],
   "source": [
    "arr = np.array([[1,2,3,3,4],[6,7,8,9,5]])\n",
    "print(arr.shape)"
   ]
  },
  {
   "cell_type": "code",
   "execution_count": 94,
   "id": "71cdd31a-9520-4d3f-94e6-56ccd6697692",
   "metadata": {},
   "outputs": [
    {
     "name": "stdout",
     "output_type": "stream",
     "text": [
      "[1 2 3 4 5 6 7 8]\n"
     ]
    }
   ],
   "source": [
    "#Joining Numpy Arrays\n",
    "arr1 = np.array([1,2,3,4])\n",
    "arr2 = np.array([5,6,7,8])\n",
    "arr =  np.concatenate((arr1, arr2))\n",
    "print(arr)"
   ]
  },
  {
   "cell_type": "code",
   "execution_count": 104,
   "id": "54624bda-4aff-4221-b908-eb39f58eece1",
   "metadata": {},
   "outputs": [
    {
     "name": "stdout",
     "output_type": "stream",
     "text": [
      "for axis = 1:  [[ 1  2  3  4 10 11 12 13]\n",
      " [ 5  6  7  8  1  2  3  4]]\n",
      "for axis = 0:  [[ 1  2  3  4]\n",
      " [ 5  6  7  8]\n",
      " [10 11 12 13]\n",
      " [ 1  2  3  4]]\n"
     ]
    }
   ],
   "source": [
    "#Joining 2-D arrays\n",
    "arr1 = np.array([[1,2,3,4],[5,6,7,8]])\n",
    "arr2 = np.array([[10,11,12,13],[1,2,3,4]])\n",
    "arr3 = np.concatenate((arr1, arr2),axis = 1)#for axis = 1 concatenation is along row side\n",
    "arr4 = np.concatenate((arr1, arr2),axis = 0)#for axis = 0 concatenation is column wise\n",
    "print(\"for axis = 1: \",arr3)\n",
    "print(\"for axis = 0: \",arr4)"
   ]
  },
  {
   "cell_type": "raw",
   "id": "023b90a8-e34f-4bf7-a37e-85a3e9797089",
   "metadata": {},
   "source": [
    "#Splitting Numpy Arrays\n",
    "\n"
   ]
  },
  {
   "cell_type": "code",
   "execution_count": 112,
   "id": "34526fff-5b40-4b66-9903-71eb8c2115ae",
   "metadata": {},
   "outputs": [
    {
     "name": "stdout",
     "output_type": "stream",
     "text": [
      "[array([1, 2]), array([3, 4]), array([5, 6])]\n",
      "[array([1, 2]), array([3, 4]), array([5]), array([6])]\n"
     ]
    }
   ],
   "source": [
    "#splitting the array in 3 parts\n",
    "arr = np.array([1,2,3,4,5,6])\n",
    "newarr1 = np.array_split(arr,3)\n",
    "newarr2 = np.array_split(arr,4)\n",
    "print(newarr1)\n",
    "print(newarr2)"
   ]
  },
  {
   "cell_type": "raw",
   "id": "8fb61761-2a24-4685-ac60-cc67018a5fcd",
   "metadata": {},
   "source": [
    "#ravel & flatten\n",
    "converts multidimensional array into 1 d array"
   ]
  },
  {
   "cell_type": "code",
   "execution_count": 114,
   "id": "565249cf-22e9-4008-8b62-35ee412ca644",
   "metadata": {},
   "outputs": [
    {
     "name": "stdout",
     "output_type": "stream",
     "text": [
      "[[1 2 3 4 5]\n",
      " [5 6 7 8 9]]\n",
      "The Dimension : 2\n",
      "[1 2 3 4 5 5 6 7 8 9]\n",
      "now the new dimension is  1\n"
     ]
    }
   ],
   "source": [
    "m = np.array([[1,2,3,4,5],[5,6,7,8,9]])\n",
    "print(m)\n",
    "print(\"The Dimension :\",m.ndim)\n",
    "n = m.ravel()\n",
    "print(n)\n",
    "print(\"now the new dimension is \", n.ndim)"
   ]
  },
  {
   "cell_type": "code",
   "execution_count": 116,
   "id": "7b9324c3-fe6a-41ee-ae3f-898997de417f",
   "metadata": {},
   "outputs": [
    {
     "name": "stdout",
     "output_type": "stream",
     "text": [
      "[[[1 2 3 4]\n",
      "  [3 4 5 6]]\n",
      "\n",
      " [[4 5 6 7]\n",
      "  [5 6 7 8]]]\n",
      "The dimension :  3\n",
      "[1 2 3 4 3 4 5 6 4 5 6 7 5 6 7 8]\n",
      "The dimension :  1\n"
     ]
    }
   ],
   "source": [
    "m = np.array([[[1,2,3,4],[3,4,5,6]],[[4,5,6,7],[5,6,7,8]]])\n",
    "print(m)\n",
    "print(\"The dimension : \", m.ndim)\n",
    "n = m.ravel()\n",
    "print(n)\n",
    "print(\"The dimension : \", n.ndim)"
   ]
  },
  {
   "cell_type": "code",
   "execution_count": 6,
   "id": "8a41e877-2746-4344-9c28-23e5fbbf2719",
   "metadata": {},
   "outputs": [
    {
     "name": "stdout",
     "output_type": "stream",
     "text": [
      "[[1 2 3 4]\n",
      " [5 6 7 8]]\n",
      "The dimension :  2\n",
      "[1 2 3 4 5 6 7 8]\n",
      "The Dimension is :  1\n"
     ]
    }
   ],
   "source": [
    "m = np.array([[1,2,3,4],[5,6,7,8]])\n",
    "print(m)\n",
    "print(\"The dimension : \",m.ndim)\n",
    "n = m.ravel()\n",
    "print(n)\n",
    "print(\"The Dimension is : \",n.ndim)"
   ]
  },
  {
   "cell_type": "code",
   "execution_count": 68,
   "id": "31aba851-894a-49d9-b9f1-f4cb758eb315",
   "metadata": {},
   "outputs": [
    {
     "name": "stdout",
     "output_type": "stream",
     "text": [
      "[[12  1  4  3]\n",
      " [36  7  7  4]]\n",
      "2\n",
      "[12  1  4  3 36  7  7  4]\n",
      "1\n"
     ]
    }
   ],
   "source": [
    "arr = np.array([[12,1,4,3],[36,7,7,4]])\n",
    "print(arr)\n",
    "print(arr.ndim)\n",
    "n = arr.flatten()\n",
    "print(n)\n",
    "print(n.ndim)"
   ]
  },
  {
   "cell_type": "code",
   "execution_count": 70,
   "id": "34ae9bc5-7019-4e32-a3a3-5dcbd40d018e",
   "metadata": {},
   "outputs": [
    {
     "name": "stdout",
     "output_type": "stream",
     "text": [
      "[[[[1 2 3 4]\n",
      "   [4 5 6 7]\n",
      "   [5 6 7 8]]]]\n",
      "4\n",
      "[1 2 3 4 4 5 6 7 5 6 7 8]\n",
      "1\n"
     ]
    }
   ],
   "source": [
    "arr = np.array([[[[1,2,3,4],[4,5,6,7],[5,6,7,8]]]])\n",
    "print(arr)\n",
    "print(arr.ndim)\n",
    "n = arr.flatten()\n",
    "print(n)\n",
    "print(n.ndim)\n"
   ]
  },
  {
   "cell_type": "code",
   "execution_count": 72,
   "id": "8ab247d5-d4ec-4a84-a84e-3496de0ff819",
   "metadata": {},
   "outputs": [
    {
     "name": "stdout",
     "output_type": "stream",
     "text": [
      "[1 2 3 4 2 3 4 5 6 3 3 8 0 6 7]\n",
      "[0 1 2 3 4 5 6 7 8]\n"
     ]
    }
   ],
   "source": [
    "#Unique Function\n",
    "arr = np.array([1,2,3,4,2,3,4,5,6,3,3,8,0,6,7])\n",
    "print(arr)\n",
    "new_array = np.unique(arr)\n",
    "print(new_array)"
   ]
  },
  {
   "cell_type": "code",
   "execution_count": 82,
   "id": "5985fc8b-974b-4f33-ac92-0356cd1c1fd5",
   "metadata": {},
   "outputs": [
    {
     "name": "stdout",
     "output_type": "stream",
     "text": [
      "[1 2 3 4 2 3 4 5 6 3 3 8 0 6 7]\n",
      "(array([0, 1, 2, 3, 4, 5, 6, 7, 8]), array([12,  0,  1,  2,  3,  7,  8, 14, 11], dtype=int64))\n"
     ]
    }
   ],
   "source": [
    "arr = np.array([1,2,3,4,2,3,4,5,6,3,3,8,0,6,7])\n",
    "print(arr)\n",
    "new_array = np.unique(arr, return_index = True)\n",
    "print(new_array)"
   ]
  },
  {
   "cell_type": "code",
   "execution_count": 86,
   "id": "83bfec16-53c4-4839-bca2-ded2fdee8ae5",
   "metadata": {},
   "outputs": [
    {
     "name": "stdout",
     "output_type": "stream",
     "text": [
      "[1 2 3 4 2 3 4 5 6 3 3 8 0 6 7]\n",
      "(array([0, 1, 2, 3, 4, 5, 6, 7, 8]), array([12,  0,  1,  2,  3,  7,  8, 14, 11], dtype=int64), array([1, 1, 2, 4, 2, 1, 2, 1, 1], dtype=int64))\n"
     ]
    }
   ],
   "source": [
    "arr = np.array([1,2,3,4,2,3,4,5,6,3,3,8,0,6,7])\n",
    "print(arr)\n",
    "new_array = np.unique(arr, return_index=True, return_counts = True)\n",
    "print(new_array)"
   ]
  },
  {
   "cell_type": "code",
   "execution_count": 94,
   "id": "e135fb2a-7aed-41bd-9a74-eab7a4fc952e",
   "metadata": {},
   "outputs": [
    {
     "name": "stdout",
     "output_type": "stream",
     "text": [
      "[[1 2 3 3]\n",
      " [4 5 6 7]\n",
      " [6 7 8 9]]\n",
      "\n",
      "[[1 2 3 3]\n",
      " [6 7 8 9]]\n"
     ]
    }
   ],
   "source": [
    "#Delete\n",
    "arr = np.array([[1,2,3,3],[4,5,6,7],[6,7,8,9]])\n",
    "print(arr)\n",
    "new_arr = np.delete(arr, 1, axis = 0)\n",
    "print()\n",
    "print(new_arr)"
   ]
  },
  {
   "cell_type": "code",
   "execution_count": 96,
   "id": "a0de9fca-566b-424b-8390-a7536c47c84b",
   "metadata": {},
   "outputs": [
    {
     "name": "stdout",
     "output_type": "stream",
     "text": [
      "[1 2 3 4 5]\n",
      "[1 2 4 5]\n"
     ]
    }
   ],
   "source": [
    "arr = np.array([1,2,3,4,5])\n",
    "print(arr)\n",
    "arr1 = np.delete(arr, [2])\n",
    "print(arr1)"
   ]
  },
  {
   "cell_type": "code",
   "execution_count": null,
   "id": "ddb2b101-0a31-4a13-8c5a-92515004b7cf",
   "metadata": {},
   "outputs": [],
   "source": []
  }
 ],
 "metadata": {
  "kernelspec": {
   "display_name": "Python 3 (ipykernel)",
   "language": "python",
   "name": "python3"
  },
  "language_info": {
   "codemirror_mode": {
    "name": "ipython",
    "version": 3
   },
   "file_extension": ".py",
   "mimetype": "text/x-python",
   "name": "python",
   "nbconvert_exporter": "python",
   "pygments_lexer": "ipython3",
   "version": "3.12.4"
  }
 },
 "nbformat": 4,
 "nbformat_minor": 5
}
